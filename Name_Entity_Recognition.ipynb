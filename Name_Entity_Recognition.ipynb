{
  "nbformat": 4,
  "nbformat_minor": 0,
  "metadata": {
    "colab": {
      "name": "Name Entity Recognition.ipynb",
      "provenance": [],
      "collapsed_sections": []
    },
    "kernelspec": {
      "name": "python3",
      "display_name": "Python 3"
    },
    "accelerator": "GPU"
  },
  "cells": [
    {
      "cell_type": "code",
      "metadata": {
        "id": "ZV_g1SACOZ1t",
        "colab_type": "code",
        "colab": {
          "base_uri": "https://localhost:8080/",
          "height": 474
        },
        "outputId": "3d6d43f5-15c8-410c-e44d-09bc8a08166b"
      },
      "source": [
        "!pip install -q -U trax"
      ],
      "execution_count": null,
      "outputs": [
        {
          "output_type": "stream",
          "text": [
            "\u001b[K     |████████████████████████████████| 368kB 16.8MB/s \n",
            "\u001b[K     |████████████████████████████████| 2.6MB 49.9MB/s \n",
            "\u001b[K     |████████████████████████████████| 1.5MB 48.3MB/s \n",
            "\u001b[K     |████████████████████████████████| 163kB 56.2MB/s \n",
            "\u001b[K     |████████████████████████████████| 81kB 10.9MB/s \n",
            "\u001b[K     |████████████████████████████████| 983kB 47.5MB/s \n",
            "\u001b[K     |████████████████████████████████| 5.3MB 49.0MB/s \n",
            "\u001b[K     |████████████████████████████████| 368kB 40.4MB/s \n",
            "\u001b[K     |████████████████████████████████| 358kB 56.8MB/s \n",
            "\u001b[K     |████████████████████████████████| 194kB 43.8MB/s \n",
            "\u001b[K     |████████████████████████████████| 655kB 49.5MB/s \n",
            "\u001b[K     |████████████████████████████████| 307kB 52.5MB/s \n",
            "\u001b[K     |████████████████████████████████| 1.1MB 50.1MB/s \n",
            "\u001b[K     |████████████████████████████████| 778kB 49.9MB/s \n",
            "\u001b[K     |████████████████████████████████| 3.5MB 46.2MB/s \n",
            "\u001b[K     |████████████████████████████████| 51kB 7.2MB/s \n",
            "\u001b[K     |████████████████████████████████| 235kB 54.8MB/s \n",
            "\u001b[K     |████████████████████████████████| 51kB 7.1MB/s \n",
            "\u001b[K     |████████████████████████████████| 3.0MB 47.6MB/s \n",
            "\u001b[K     |████████████████████████████████| 890kB 52.7MB/s \n",
            "\u001b[?25h  Building wheel for bz2file (setup.py) ... \u001b[?25l\u001b[?25hdone\n",
            "  Building wheel for pypng (setup.py) ... \u001b[?25l\u001b[?25hdone\n",
            "  Building wheel for sacremoses (setup.py) ... \u001b[?25l\u001b[?25hdone\n",
            "\u001b[31mERROR: kfac 0.2.2 has requirement tensorflow-probability==0.8, but you'll have tensorflow-probability 0.7.0 which is incompatible.\u001b[0m\n"
          ],
          "name": "stdout"
        }
      ]
    },
    {
      "cell_type": "code",
      "metadata": {
        "id": "B6IMfFUlOuNm",
        "colab_type": "code",
        "colab": {
          "base_uri": "https://localhost:8080/",
          "height": 55
        },
        "outputId": "bff24cca-7215-4af7-fe55-ca44e9579a0d"
      },
      "source": [
        "import pandas as pd\n",
        "import numpy as np\n",
        "import csv\n",
        "import trax\n",
        "import trax.fastmath.numpy as fastnp\n",
        "from trax import layers as tl"
      ],
      "execution_count": null,
      "outputs": [
        {
          "output_type": "stream",
          "text": [
            "INFO:tensorflow:tokens_length=568 inputs_length=512 targets_length=114 noise_density=0.15 mean_noise_span_length=3.0 \n"
          ],
          "name": "stdout"
        }
      ]
    },
    {
      "cell_type": "code",
      "metadata": {
        "id": "hxfBZ5cxOr7t",
        "colab_type": "code",
        "colab": {}
      },
      "source": [
        "with open('ner_dataset.csv','r',encoding='ISO-8859-1') as file:\n",
        "  data = csv.reader(file)\n",
        "  next(data)\n",
        "  sentences = []\n",
        "  tags = []\n",
        "  text = \"\"\n",
        "  label = \"\"\n",
        "  for row in data:\n",
        "    if row[0]:\n",
        "      if text and label:\n",
        "        sentences.append(text)\n",
        "        tags.append(label)\n",
        "      text = row[1]\n",
        "      label = row[3]\n",
        "    else:\n",
        "      text += \" \"+row[1]\n",
        "      label += \" \"+row[3]\n",
        "  if text and label:\n",
        "    sentences.append(text)\n",
        "    tags.append(label)\n",
        "   "
      ],
      "execution_count": null,
      "outputs": []
    },
    {
      "cell_type": "code",
      "metadata": {
        "id": "kpFAGNJhRfpL",
        "colab_type": "code",
        "colab": {
          "base_uri": "https://localhost:8080/",
          "height": 35
        },
        "outputId": "828bdd05-e3d3-4ddd-f502-912b0b6a3c5d"
      },
      "source": [
        "len(sentences)"
      ],
      "execution_count": null,
      "outputs": [
        {
          "output_type": "execute_result",
          "data": {
            "text/plain": [
              "47959"
            ]
          },
          "metadata": {
            "tags": []
          },
          "execution_count": 4
        }
      ]
    },
    {
      "cell_type": "code",
      "metadata": {
        "id": "C5hzj0oWRh_Y",
        "colab_type": "code",
        "colab": {
          "base_uri": "https://localhost:8080/",
          "height": 35
        },
        "outputId": "5dc19af4-5e35-439a-83bb-5c7d444a4f18"
      },
      "source": [
        "len(tags)"
      ],
      "execution_count": null,
      "outputs": [
        {
          "output_type": "execute_result",
          "data": {
            "text/plain": [
              "47959"
            ]
          },
          "metadata": {
            "tags": []
          },
          "execution_count": 5
        }
      ]
    },
    {
      "cell_type": "code",
      "metadata": {
        "id": "ZcUhWJWUCv-v",
        "colab_type": "code",
        "colab": {}
      },
      "source": [
        "with open('listfile.txt', 'w') as filehandle:\n",
        "    filehandle.writelines(\"%s\\n\" % tag for tag in tags)"
      ],
      "execution_count": null,
      "outputs": []
    },
    {
      "cell_type": "code",
      "metadata": {
        "id": "tJmpVh6rWF5O",
        "colab_type": "code",
        "colab": {
          "base_uri": "https://localhost:8080/",
          "height": 35
        },
        "outputId": "0a70426b-3210-436e-fb32-6c8ac06c6078"
      },
      "source": [
        "vocab = {\"__UNK__\":0}\n",
        "for line in sentences:\n",
        "  for word in line.split():\n",
        "    if word not in vocab:\n",
        "      vocab[word] = len(vocab)\n",
        "\n",
        "vocab['<PAD>'] = len(vocab)\n",
        "print(vocab['<PAD>'])"
      ],
      "execution_count": null,
      "outputs": [
        {
          "output_type": "stream",
          "text": [
            "35177\n"
          ],
          "name": "stdout"
        }
      ]
    },
    {
      "cell_type": "code",
      "metadata": {
        "id": "eA8hW8CUXha4",
        "colab_type": "code",
        "colab": {
          "base_uri": "https://localhost:8080/",
          "height": 35
        },
        "outputId": "39b0b622-f89a-4483-b0ed-f1b68b553a68"
      },
      "source": [
        "len(vocab)"
      ],
      "execution_count": null,
      "outputs": [
        {
          "output_type": "execute_result",
          "data": {
            "text/plain": [
              "35178"
            ]
          },
          "metadata": {
            "tags": []
          },
          "execution_count": 7
        }
      ]
    },
    {
      "cell_type": "code",
      "metadata": {
        "id": "e0QgGN98XirB",
        "colab_type": "code",
        "colab": {}
      },
      "source": [
        "tags_map = {}\n",
        "for line in tags:\n",
        "  for tag in line.split():\n",
        "    if tag not in tags_map:\n",
        "      tags_map[tag] = len(tags_map)"
      ],
      "execution_count": null,
      "outputs": []
    },
    {
      "cell_type": "code",
      "metadata": {
        "id": "3fdwPDV-YLOm",
        "colab_type": "code",
        "colab": {
          "base_uri": "https://localhost:8080/",
          "height": 326
        },
        "outputId": "fe392c52-3866-4968-ff00-fe5378fa315c"
      },
      "source": [
        "tags_map"
      ],
      "execution_count": null,
      "outputs": [
        {
          "output_type": "execute_result",
          "data": {
            "text/plain": [
              "{'B-art': 8,\n",
              " 'B-eve': 14,\n",
              " 'B-geo': 1,\n",
              " 'B-gpe': 2,\n",
              " 'B-nat': 13,\n",
              " 'B-org': 5,\n",
              " 'B-per': 3,\n",
              " 'B-tim': 7,\n",
              " 'I-art': 9,\n",
              " 'I-eve': 15,\n",
              " 'I-geo': 4,\n",
              " 'I-gpe': 11,\n",
              " 'I-nat': 16,\n",
              " 'I-org': 6,\n",
              " 'I-per': 10,\n",
              " 'I-tim': 12,\n",
              " 'O': 0}"
            ]
          },
          "metadata": {
            "tags": []
          },
          "execution_count": 9
        }
      ]
    },
    {
      "cell_type": "code",
      "metadata": {
        "id": "LCplLIbsYyhz",
        "colab_type": "code",
        "colab": {}
      },
      "source": [
        "def text_to_tensor(text,unk = \"__UNK__\"):\n",
        "  tensor = []\n",
        "  unknown = vocab[unk]\n",
        "  for word in text.split():\n",
        "    tensor.append(vocab.get(word,unknown))\n",
        "  return tensor"
      ],
      "execution_count": null,
      "outputs": []
    },
    {
      "cell_type": "code",
      "metadata": {
        "id": "t5EUDrUTa4Sq",
        "colab_type": "code",
        "colab": {}
      },
      "source": [
        "def tags_to_tensor(tags):\n",
        "  tensor = []\n",
        "  for tag in tags.split():\n",
        "    tensor.append(tags_map.get(tag,0))\n",
        "  return tensor"
      ],
      "execution_count": null,
      "outputs": []
    },
    {
      "cell_type": "code",
      "metadata": {
        "id": "Ph-LqcWmbcjv",
        "colab_type": "code",
        "colab": {
          "base_uri": "https://localhost:8080/",
          "height": 35
        },
        "outputId": "9ede54e3-577e-4049-b0f0-dd6fad40fb4a"
      },
      "source": [
        "tx = 'O O O O O O B-geo O O O O O B-geo O O O O O B-gpe O O O O O'\n",
        "print(tags_to_tensor(tx))"
      ],
      "execution_count": null,
      "outputs": [
        {
          "output_type": "stream",
          "text": [
            "[0, 0, 0, 0, 0, 0, 1, 0, 0, 0, 0, 0, 1, 0, 0, 0, 0, 0, 2, 0, 0, 0, 0, 0]\n"
          ],
          "name": "stdout"
        }
      ]
    },
    {
      "cell_type": "code",
      "metadata": {
        "id": "RR8KVs6Dbgu4",
        "colab_type": "code",
        "colab": {}
      },
      "source": [
        "train_len = int(len(sentences)*0.7)\n",
        "eval_len = int(len(sentences)*0.2)\n",
        "test_len = int(len(sentences)*0.1)\n",
        "train_x = sentences[:train_len]\n",
        "train_y = tags[:train_len]\n",
        "eval_x = sentences[train_len:train_len+eval_len]\n",
        "eval_y = tags[train_len:train_len+eval_len]\n",
        "test_x = sentences[train_len+eval_len:]\n",
        "test_y = tags[train_len+eval_len:]"
      ],
      "execution_count": null,
      "outputs": []
    },
    {
      "cell_type": "code",
      "metadata": {
        "id": "acWZLOpPigDl",
        "colab_type": "code",
        "colab": {
          "base_uri": "https://localhost:8080/",
          "height": 72
        },
        "outputId": "1c331215-ee7d-40e9-c537-ed343d931f57"
      },
      "source": [
        "print(len(train_x),len(train_y))\n",
        "print(len(eval_x),len(eval_y))\n",
        "print(len(test_x),len(test_y))"
      ],
      "execution_count": null,
      "outputs": [
        {
          "output_type": "stream",
          "text": [
            "33571 33571\n",
            "9591 9591\n",
            "4797 4797\n"
          ],
          "name": "stdout"
        }
      ]
    },
    {
      "cell_type": "code",
      "metadata": {
        "id": "tT2ZSJdBeYlJ",
        "colab_type": "code",
        "colab": {}
      },
      "source": [
        "import random\n",
        "def data_generator(texts,tags,batch_size,pad,shuffle = True):\n",
        "  index = 0\n",
        "  data_len = len(texts)\n",
        "  index_lines = list(range(data_len))\n",
        "  if shuffle:\n",
        "    random.shuffle(index_lines)\n",
        "  \n",
        "  X = []\n",
        "  Y = []\n",
        "\n",
        "  while True:\n",
        "    if index >= data_len:\n",
        "      index = 0\n",
        "      if shuffle:\n",
        "        random.shuffle(index_lines)\n",
        "    txt = texts[index_lines[index]]\n",
        "    X.append(text_to_tensor(txt))\n",
        "    tg = tags[index_lines[index]]\n",
        "    Y.append(tags_to_tensor(tg))\n",
        "    index += 1\n",
        "\n",
        "    if len(X) == batch_size:\n",
        "      batch_x = []\n",
        "      batch_y = []\n",
        "      mask = []\n",
        "      max_len = max([len(x) for x in X])\n",
        "      for i in range(batch_size):\n",
        "        temp_x = X[i] + [pad]*(max_len-len(X[i]))\n",
        "        temp_y = Y[i] + [pad]*(max_len-len(Y[i]))\n",
        "        emple_mask = [1 if x!=pad else 0 for x in temp_y]\n",
        "        batch_x.append(temp_x)\n",
        "        batch_y.append(temp_y)\n",
        "        mask.append(emple_mask)\n",
        "      final_X = fastnp.array(batch_x)\n",
        "      final_y = fastnp.array(batch_y)\n",
        "      final_mask = fastnp.array(mask)\n",
        "\n",
        "      yield final_X,final_y,final_mask\n",
        "      X = []\n",
        "      Y = []\n",
        "\n",
        "\n"
      ],
      "execution_count": null,
      "outputs": []
    },
    {
      "cell_type": "code",
      "metadata": {
        "id": "Q2n1NTESlwfR",
        "colab_type": "code",
        "colab": {
          "base_uri": "https://localhost:8080/",
          "height": 381
        },
        "outputId": "a0b7e268-2566-46c7-eab9-4025d85f5f97"
      },
      "source": [
        "#test\n",
        "batch = next(data_generator(train_x,train_y,2,vocab['<PAD>']))\n",
        "batch[0],batch[1],batch[2]"
      ],
      "execution_count": null,
      "outputs": [
        {
          "output_type": "execute_result",
          "data": {
            "text/plain": [
              "(DeviceArray([[  368,  8960, 14303,    29,    60, 10261,   878,    14,\n",
              "                 326,   192,   150,  1286,   170,  4274,  4275,    79,\n",
              "                4899,    12,  1822,  1823,    22, 35177, 35177, 35177,\n",
              "               35177, 35177, 35177],\n",
              "              [  596,   173,  3869,    69,    70,   306,   294,  1862,\n",
              "                   8,   467,   510,    20,    59,  2207,    36,  7569,\n",
              "                8000,   121,   357,    14,    92,  3152,   226,   752,\n",
              "                3869,    22,    36]], dtype=int32),\n",
              " DeviceArray([[    0,     0,     0,     0,     0,     0,     0,     0,\n",
              "                   0,     0,     5,     3,    10,    10,    10,     0,\n",
              "                   0,     0,     0,     0,     0, 35177, 35177, 35177,\n",
              "               35177, 35177, 35177],\n",
              "              [    0,     0,     1,     0,     0,     0,     0,     0,\n",
              "                   0,     0,     0,     0,     0,     0,     0,     0,\n",
              "                   0,     0,     0,     0,     0,     0,     0,     0,\n",
              "                   1,     0,     0]], dtype=int32),\n",
              " DeviceArray([[1, 1, 1, 1, 1, 1, 1, 1, 1, 1, 1, 1, 1, 1, 1, 1, 1, 1, 1, 1,\n",
              "               1, 0, 0, 0, 0, 0, 0],\n",
              "              [1, 1, 1, 1, 1, 1, 1, 1, 1, 1, 1, 1, 1, 1, 1, 1, 1, 1, 1, 1,\n",
              "               1, 1, 1, 1, 1, 1, 1]], dtype=int32))"
            ]
          },
          "metadata": {
            "tags": []
          },
          "execution_count": 27
        }
      ]
    },
    {
      "cell_type": "code",
      "metadata": {
        "id": "dif2Vq2bmWgN",
        "colab_type": "code",
        "colab": {}
      },
      "source": [
        "import itertools\n",
        "batch_size = 64\n",
        "train_generator = itertools.cycle(data_generator(train_x,train_y,batch_size,vocab['<PAD>']))\n",
        "eval_generator = itertools.cycle(data_generator(eval_x,eval_y,batch_size,vocab['<PAD>']))"
      ],
      "execution_count": null,
      "outputs": []
    },
    {
      "cell_type": "code",
      "metadata": {
        "id": "aGEzOA45nc0o",
        "colab_type": "code",
        "colab": {}
      },
      "source": [
        "def NER_model(vocab_size = 35178,embed_size = 128,len_tags = 17):\n",
        "  model = tl.Serial(tl.Embedding(vocab_size,embed_size),tl.LSTM(embed_size),tl.Dense(len_tags),tl.LogSoftmax())\n",
        "  return model\n"
      ],
      "execution_count": null,
      "outputs": []
    },
    {
      "cell_type": "code",
      "metadata": {
        "id": "R-Bi-xmAojQ4",
        "colab_type": "code",
        "colab": {}
      },
      "source": [
        "from trax.supervised import training"
      ],
      "execution_count": null,
      "outputs": []
    },
    {
      "cell_type": "code",
      "metadata": {
        "id": "GuUbssiMoJuJ",
        "colab_type": "code",
        "colab": {}
      },
      "source": [
        "def train_model(model,train_generator,eval_generator,n_steps=1,output_dir = \"/ner_model\"):\n",
        "  train_task = training.TrainTask(train_generator,tl.CrossEntropyLoss(),trax.optimizers.Adam(0.01))\n",
        "  eval_task = training.EvalTask(eval_generator,[tl.CrossEntropyLoss(),tl.Accuracy()],n_eval_batches=3)\n",
        "  train_loop = training.Loop(model,train_task,eval_tasks=[eval_task],output_dir=output_dir)\n",
        "  train_loop.run(n_steps)\n",
        "  return train_loop"
      ],
      "execution_count": null,
      "outputs": []
    },
    {
      "cell_type": "code",
      "metadata": {
        "id": "s0xP-bE0pYBf",
        "colab_type": "code",
        "colab": {
          "base_uri": "https://localhost:8080/",
          "height": 472
        },
        "outputId": "76fa7745-baf9-4631-ca2e-59a014afa50a"
      },
      "source": [
        "loop = train_model(NER_model(),train_generator,eval_generator,500)"
      ],
      "execution_count": null,
      "outputs": [
        {
          "output_type": "stream",
          "text": [
            "\n",
            "Step    500: Ran 100 train steps in 35.56 secs\n",
            "Step    500: train CrossEntropyLoss |  0.13881032\n",
            "Step    500: eval  CrossEntropyLoss |  0.13752663\n",
            "Step    500: eval          Accuracy |  0.95853502\n",
            "\n",
            "Step    600: Ran 100 train steps in 13.28 secs\n",
            "Step    600: train CrossEntropyLoss |  0.13914625\n",
            "Step    600: eval  CrossEntropyLoss |  0.16961588\n",
            "Step    600: eval          Accuracy |  0.94559435\n",
            "\n",
            "Step    700: Ran 100 train steps in 10.63 secs\n",
            "Step    700: train CrossEntropyLoss |  0.13751015\n",
            "Step    700: eval  CrossEntropyLoss |  0.17699127\n",
            "Step    700: eval          Accuracy |  0.94573482\n",
            "\n",
            "Step    800: Ran 100 train steps in 13.73 secs\n",
            "Step    800: train CrossEntropyLoss |  0.13336383\n",
            "Step    800: eval  CrossEntropyLoss |  0.14042162\n",
            "Step    800: eval          Accuracy |  0.95812070\n",
            "\n",
            "Step    900: Ran 100 train steps in 5.74 secs\n",
            "Step    900: train CrossEntropyLoss |  0.13204646\n",
            "Step    900: eval  CrossEntropyLoss |  0.14564398\n",
            "Step    900: eval          Accuracy |  0.95884267\n"
          ],
          "name": "stdout"
        }
      ]
    },
    {
      "cell_type": "code",
      "metadata": {
        "id": "LJmUsmf2piME",
        "colab_type": "code",
        "colab": {}
      },
      "source": [
        "model = NER_model()\n",
        "model.init_from_file('/ner_model/model.pkl.gz')"
      ],
      "execution_count": null,
      "outputs": []
    },
    {
      "cell_type": "code",
      "metadata": {
        "id": "cfDzLnywFNxK",
        "colab_type": "code",
        "colab": {
          "base_uri": "https://localhost:8080/",
          "height": 35
        },
        "outputId": "f26343d0-54b3-4799-eb53-feb8b89555f9"
      },
      "source": [
        "test_gen = next(data_generator(test_x,test_y,4,vocab['<PAD>']))\n",
        "pred = model(test_gen[0])\n",
        "print((fastnp.argmax(pred,axis = -1)).shape)"
      ],
      "execution_count": null,
      "outputs": [
        {
          "output_type": "stream",
          "text": [
            "(4, 35)\n"
          ],
          "name": "stdout"
        }
      ]
    },
    {
      "cell_type": "code",
      "metadata": {
        "id": "L6ascm2WFgmS",
        "colab_type": "code",
        "colab": {}
      },
      "source": [
        "def compute_accuracy(pred,targets,mask):\n",
        "  predictions = fastnp.argmax(pred,axis = -1)\n",
        "  correct = fastnp.sum(predictions == targets)\n",
        "  total = float(np.sum(mask))\n",
        "  return correct/total\n"
      ],
      "execution_count": null,
      "outputs": []
    },
    {
      "cell_type": "code",
      "metadata": {
        "id": "hWD1PweJG9us",
        "colab_type": "code",
        "colab": {
          "base_uri": "https://localhost:8080/",
          "height": 35
        },
        "outputId": "d83bfd0d-4e1f-4e49-b925-9a0b2b122918"
      },
      "source": [
        "test_generator = next(data_generator(test_x,test_y,len(test_x),vocab['<PAD>']))\n",
        "pred = model(test_generator[0])\n",
        "print(compute_accuracy(pred,test_generator[1],test_generator[2]))"
      ],
      "execution_count": null,
      "outputs": [
        {
          "output_type": "stream",
          "text": [
            "0.95596594\n"
          ],
          "name": "stdout"
        }
      ]
    },
    {
      "cell_type": "code",
      "metadata": {
        "id": "qJZkmCHqID7u",
        "colab_type": "code",
        "colab": {}
      },
      "source": [
        "def predict(model,sentence):\n",
        "  processed_text = fastnp.array(text_to_tensor(sentence))\n",
        "  pred = model(processed_text[None,:])\n",
        "  predict = fastnp.argmax(pred,axis = -1)\n",
        "  labels = list(tags_map.keys())\n",
        "  for i in predict[0]:\n",
        "    print(labels[i])\n"
      ],
      "execution_count": null,
      "outputs": []
    },
    {
      "cell_type": "code",
      "metadata": {
        "id": "8Lga7cuAIEuY",
        "colab_type": "code",
        "colab": {
          "base_uri": "https://localhost:8080/",
          "height": 890
        },
        "outputId": "894345a2-de62-474b-91f7-23e793d12b81"
      },
      "source": [
        "sentence = \"Peter Navarro, the White House director of trade and manufacturing policy of U.S, said in an interview on Sunday morning that the White House was working to prepare for the possibility of a second wave of the coronavirus in the fall, though he said it wouldn’t necessarily come\"\n",
        "predict(model,sentence)"
      ],
      "execution_count": null,
      "outputs": [
        {
          "output_type": "stream",
          "text": [
            "B-per\n",
            "I-per\n",
            "O\n",
            "B-org\n",
            "I-org\n",
            "O\n",
            "O\n",
            "O\n",
            "O\n",
            "O\n",
            "O\n",
            "O\n",
            "O\n",
            "O\n",
            "O\n",
            "O\n",
            "O\n",
            "O\n",
            "B-tim\n",
            "I-tim\n",
            "O\n",
            "O\n",
            "B-org\n",
            "I-org\n",
            "O\n",
            "O\n",
            "O\n",
            "O\n",
            "O\n",
            "O\n",
            "O\n",
            "O\n",
            "O\n",
            "O\n",
            "O\n",
            "O\n",
            "O\n",
            "O\n",
            "O\n",
            "O\n",
            "O\n",
            "O\n",
            "O\n",
            "O\n",
            "O\n",
            "O\n",
            "O\n",
            "O\n"
          ],
          "name": "stdout"
        }
      ]
    },
    {
      "cell_type": "code",
      "metadata": {
        "id": "iCijbxbLLpdv",
        "colab_type": "code",
        "colab": {}
      },
      "source": [
        ""
      ],
      "execution_count": null,
      "outputs": []
    }
  ]
}